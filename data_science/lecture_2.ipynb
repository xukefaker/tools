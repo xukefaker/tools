{
 "cells": [
  {
   "cell_type": "code",
   "execution_count": 1,
   "id": "initial_id",
   "metadata": {
    "collapsed": true,
    "ExecuteTime": {
     "end_time": "2023-10-18T12:18:37.296614500Z",
     "start_time": "2023-10-18T12:18:36.508713Z"
    }
   },
   "outputs": [],
   "source": [
    "import pandas as pd"
   ]
  },
  {
   "cell_type": "code",
   "execution_count": 2,
   "outputs": [],
   "source": [
    "pd.set_option('display.width', 1000)\n",
    "pd.set_option('display.max_columns', 5)\n",
    "\n",
    "train_data = pd.read_csv('data/Titanic/train.csv') # pandas读取csv文件的方法\n",
    "test_data = pd.read_csv('data/Titanic/test.csv')\n",
    "\n",
    "\n"
   ],
   "metadata": {
    "collapsed": false,
    "ExecuteTime": {
     "end_time": "2023-10-18T12:18:38.750040200Z",
     "start_time": "2023-10-18T12:18:38.727189200Z"
    }
   },
   "id": "bd9627f184bc2ac7"
  },
  {
   "cell_type": "code",
   "execution_count": 3,
   "outputs": [
    {
     "name": "stdout",
     "output_type": "stream",
     "text": [
      "(891, 12)\n",
      "(418, 11)\n"
     ]
    }
   ],
   "source": [
    "print(train_data.shape)\n",
    "print(test_data.shape)"
   ],
   "metadata": {
    "collapsed": false,
    "ExecuteTime": {
     "end_time": "2023-10-18T12:18:40.527817600Z",
     "start_time": "2023-10-18T12:18:40.483384800Z"
    }
   },
   "id": "7a8dd7188bb608af"
  },
  {
   "cell_type": "code",
   "execution_count": 4,
   "outputs": [
    {
     "name": "stdout",
     "output_type": "stream",
     "text": [
      "['PassengerId' 'Survived' 'Pclass' 'Name' 'Sex' 'Age' 'SibSp' 'Parch'\n",
      " 'Ticket' 'Fare' 'Cabin' 'Embarked']\n"
     ]
    }
   ],
   "source": [
    "print(train_data.columns.values) # 看有几个列"
   ],
   "metadata": {
    "collapsed": false,
    "ExecuteTime": {
     "end_time": "2023-10-18T12:18:42.541500200Z",
     "start_time": "2023-10-18T12:18:42.502334900Z"
    }
   },
   "id": "9eb9bf63c0b0a455"
  },
  {
   "cell_type": "code",
   "execution_count": 5,
   "outputs": [
    {
     "name": "stdout",
     "output_type": "stream",
     "text": [
      "   PassengerId  Survived  ...  Cabin Embarked\n",
      "0            1         0  ...    NaN        S\n",
      "1            2         1  ...    C85        C\n",
      "2            3         1  ...    NaN        S\n",
      "3            4         1  ...   C123        S\n",
      "4            5         0  ...    NaN        S\n",
      "\n",
      "[5 rows x 12 columns]\n",
      "     PassengerId  Survived  ...  Cabin Embarked\n",
      "886          887         0  ...    NaN        S\n",
      "887          888         1  ...    B42        S\n",
      "888          889         0  ...    NaN        S\n",
      "889          890         1  ...   C148        C\n",
      "890          891         0  ...    NaN        Q\n",
      "\n",
      "[5 rows x 12 columns]\n"
     ]
    }
   ],
   "source": [
    "print(train_data.head()) # 查看前几条数据\n",
    "print(train_data.tail()) # 看后面几条数据"
   ],
   "metadata": {
    "collapsed": false,
    "ExecuteTime": {
     "end_time": "2023-10-18T12:18:44.708390Z",
     "start_time": "2023-10-18T12:18:44.661685700Z"
    }
   },
   "id": "856a6eaf28f8cbe3"
  },
  {
   "cell_type": "code",
   "execution_count": 14,
   "outputs": [
    {
     "name": "stdout",
     "output_type": "stream",
     "text": [
      "       PassengerId    Survived      Pclass         Age       SibSp       Parch        Fare\n",
      "count   891.000000  891.000000  891.000000  714.000000  891.000000  891.000000  891.000000\n",
      "mean    446.000000    0.383838    2.308642   29.699118    0.523008    0.381594   32.204208\n",
      "std     257.353842    0.486592    0.836071   14.526497    1.102743    0.806057   49.693429\n",
      "min       1.000000    0.000000    1.000000    0.420000    0.000000    0.000000    0.000000\n",
      "25%     223.500000    0.000000    2.000000   20.125000    0.000000    0.000000    7.910400\n",
      "50%     446.000000    0.000000    3.000000   28.000000    0.000000    0.000000   14.454200\n",
      "75%     668.500000    1.000000    3.000000   38.000000    1.000000    0.000000   31.000000\n",
      "max     891.000000    1.000000    3.000000   80.000000    8.000000    6.000000  512.329200\n"
     ]
    }
   ],
   "source": [
    "print(train_data.describe()) # describe只显示数值类型的统计信息，非数值类型的不显示"
   ],
   "metadata": {
    "collapsed": false,
    "ExecuteTime": {
     "end_time": "2023-10-17T14:33:37.660258900Z",
     "start_time": "2023-10-17T14:33:37.599026500Z"
    }
   },
   "id": "c65ab1434dc250b4"
  },
  {
   "cell_type": "code",
   "execution_count": 15,
   "outputs": [
    {
     "name": "stdout",
     "output_type": "stream",
     "text": [
      "<class 'pandas.core.frame.DataFrame'>\n",
      "RangeIndex: 891 entries, 0 to 890\n",
      "Data columns (total 12 columns):\n",
      " #   Column       Non-Null Count  Dtype  \n",
      "---  ------       --------------  -----  \n",
      " 0   PassengerId  891 non-null    int64  \n",
      " 1   Survived     891 non-null    int64  \n",
      " 2   Pclass       891 non-null    int64  \n",
      " 3   Name         891 non-null    object \n",
      " 4   Sex          891 non-null    object \n",
      " 5   Age          714 non-null    float64\n",
      " 6   SibSp        891 non-null    int64  \n",
      " 7   Parch        891 non-null    int64  \n",
      " 8   Ticket       891 non-null    object \n",
      " 9   Fare         891 non-null    float64\n",
      " 10  Cabin        204 non-null    object \n",
      " 11  Embarked     889 non-null    object \n",
      "dtypes: float64(2), int64(5), object(5)\n",
      "memory usage: 83.7+ KB\n",
      "None\n"
     ]
    }
   ],
   "source": [
    "print(train_data.info()) # count和数据总数对不上的，说明有数据缺失；如何处理？1. 填充 2. 删除"
   ],
   "metadata": {
    "collapsed": false,
    "ExecuteTime": {
     "end_time": "2023-10-17T14:34:43.682955900Z",
     "start_time": "2023-10-17T14:34:43.666867800Z"
    }
   },
   "id": "b84a7f0ebd13532f"
  },
  {
   "cell_type": "code",
   "execution_count": 4,
   "outputs": [
    {
     "name": "stdout",
     "output_type": "stream",
     "text": [
      "<class 'pandas.core.frame.DataFrame'>\n",
      "RangeIndex: 891 entries, 0 to 890\n",
      "Data columns (total 12 columns):\n",
      " #   Column       Non-Null Count  Dtype  \n",
      "---  ------       --------------  -----  \n",
      " 0   PassengerId  891 non-null    int64  \n",
      " 1   Survived     891 non-null    int64  \n",
      " 2   Pclass       891 non-null    int64  \n",
      " 3   Name         891 non-null    object \n",
      " 4   Sex          891 non-null    object \n",
      " 5   Age          891 non-null    float64\n",
      " 6   SibSp        891 non-null    int64  \n",
      " 7   Parch        891 non-null    int64  \n",
      " 8   Ticket       891 non-null    object \n",
      " 9   Fare         891 non-null    float64\n",
      " 10  Cabin        204 non-null    object \n",
      " 11  Embarked     889 non-null    object \n",
      "dtypes: float64(2), int64(5), object(5)\n",
      "memory usage: 83.7+ KB\n",
      "None\n"
     ]
    }
   ],
   "source": [
    "# 我们选择用平均值来填充数值类型的数据；分类数据，则用最常见的类别来替代；\n",
    "train_data['Age'] = train_data['Age'].fillna(train_data['Age'].mean())\n",
    "train_data['Fare'] = train_data['Fare'].fillna(train_data['Fare'].mean())\n",
    "print(train_data.info())"
   ],
   "metadata": {
    "collapsed": false,
    "ExecuteTime": {
     "end_time": "2023-10-17T15:36:56.100396Z",
     "start_time": "2023-10-17T15:36:56.062355800Z"
    }
   },
   "id": "95bca37233cf1db8"
  },
  {
   "cell_type": "code",
   "execution_count": 17,
   "outputs": [
    {
     "name": "stdout",
     "output_type": "stream",
     "text": [
      "Embarked\n",
      "S    644\n",
      "C    168\n",
      "Q     77\n",
      "Name: count, dtype: int64\n"
     ]
    }
   ],
   "source": [
    "# Embarked是分类数据，我们选择用最常见数据填充\n",
    "print(train_data['Embarked'].value_counts())"
   ],
   "metadata": {
    "collapsed": false,
    "ExecuteTime": {
     "end_time": "2023-10-17T14:43:36.625264Z",
     "start_time": "2023-10-17T14:43:36.609151Z"
    }
   },
   "id": "f6593544f3e561ce"
  },
  {
   "cell_type": "code",
   "execution_count": 5,
   "outputs": [
    {
     "name": "stdout",
     "output_type": "stream",
     "text": [
      "<class 'pandas.core.frame.DataFrame'>\n",
      "RangeIndex: 891 entries, 0 to 890\n",
      "Data columns (total 12 columns):\n",
      " #   Column       Non-Null Count  Dtype  \n",
      "---  ------       --------------  -----  \n",
      " 0   PassengerId  891 non-null    int64  \n",
      " 1   Survived     891 non-null    int64  \n",
      " 2   Pclass       891 non-null    int64  \n",
      " 3   Name         891 non-null    object \n",
      " 4   Sex          891 non-null    object \n",
      " 5   Age          891 non-null    float64\n",
      " 6   SibSp        891 non-null    int64  \n",
      " 7   Parch        891 non-null    int64  \n",
      " 8   Ticket       891 non-null    object \n",
      " 9   Fare         891 non-null    float64\n",
      " 10  Cabin        204 non-null    object \n",
      " 11  Embarked     891 non-null    object \n",
      "dtypes: float64(2), int64(5), object(5)\n",
      "memory usage: 83.7+ KB\n",
      "None\n"
     ]
    }
   ],
   "source": [
    "train_data['Embarked'] = train_data['Embarked'].fillna('S')\n",
    "print(train_data.info())"
   ],
   "metadata": {
    "collapsed": false,
    "ExecuteTime": {
     "end_time": "2023-10-17T15:37:00.190450300Z",
     "start_time": "2023-10-17T15:37:00.149669100Z"
    }
   },
   "id": "8b299cc93dc6d965"
  },
  {
   "cell_type": "code",
   "execution_count": 20,
   "outputs": [
    {
     "name": "stdout",
     "output_type": "stream",
     "text": [
      "0             NaN\n",
      "1             C85\n",
      "2             NaN\n",
      "3            C123\n",
      "4             NaN\n",
      "5             NaN\n",
      "6             E46\n",
      "7             NaN\n",
      "8             NaN\n",
      "9             NaN\n",
      "10             G6\n",
      "11           C103\n",
      "12            NaN\n",
      "13            NaN\n",
      "14            NaN\n",
      "15            NaN\n",
      "16            NaN\n",
      "17            NaN\n",
      "18            NaN\n",
      "19            NaN\n",
      "20            NaN\n",
      "21            D56\n",
      "22            NaN\n",
      "23             A6\n",
      "24            NaN\n",
      "25            NaN\n",
      "26            NaN\n",
      "27    C23 C25 C27\n",
      "28            NaN\n",
      "29            NaN\n",
      "Name: Cabin, dtype: object\n"
     ]
    }
   ],
   "source": [
    "print(train_data.Cabin.head(n=30))"
   ],
   "metadata": {
    "collapsed": false,
    "ExecuteTime": {
     "end_time": "2023-10-17T14:45:03.914038100Z",
     "start_time": "2023-10-17T14:45:03.884275200Z"
    }
   },
   "id": "dceb022d46c80ab5"
  },
  {
   "cell_type": "code",
   "execution_count": 6,
   "outputs": [
    {
     "name": "stdout",
     "output_type": "stream",
     "text": [
      "<class 'pandas.core.frame.DataFrame'>\n",
      "RangeIndex: 891 entries, 0 to 890\n",
      "Data columns (total 12 columns):\n",
      " #   Column       Non-Null Count  Dtype  \n",
      "---  ------       --------------  -----  \n",
      " 0   PassengerId  891 non-null    int64  \n",
      " 1   Survived     891 non-null    int64  \n",
      " 2   Pclass       891 non-null    int64  \n",
      " 3   Name         891 non-null    object \n",
      " 4   Sex          891 non-null    object \n",
      " 5   Age          891 non-null    float64\n",
      " 6   SibSp        891 non-null    int64  \n",
      " 7   Parch        891 non-null    int64  \n",
      " 8   Ticket       891 non-null    object \n",
      " 9   Fare         891 non-null    float64\n",
      " 10  Cabin        891 non-null    object \n",
      " 11  Embarked     891 non-null    object \n",
      "dtypes: float64(2), int64(5), object(5)\n",
      "memory usage: 83.7+ KB\n",
      "None\n"
     ]
    }
   ],
   "source": [
    "#由于cabin缺失较多，所以我们选择用U(Unknown)来填充\n",
    "train_data['Cabin'] = train_data['Cabin'].fillna('U')\n",
    "print(train_data.info())"
   ],
   "metadata": {
    "collapsed": false,
    "ExecuteTime": {
     "end_time": "2023-10-17T15:37:05.215814500Z",
     "start_time": "2023-10-17T15:37:05.178850100Z"
    }
   },
   "id": "cf7e180339ca3c0e"
  },
  {
   "cell_type": "code",
   "execution_count": 7,
   "outputs": [
    {
     "name": "stdout",
     "output_type": "stream",
     "text": [
      "   PassengerId  Survived  Pclass                                               Name  Sex   Age  SibSp  Parch            Ticket     Fare Cabin  Embarked\n",
      "0            1         0       3                            Braund, Mr. Owen Harris    0  22.0      1      0         A/5 21171   7.2500     U         0\n",
      "1            2         1       1  Cumings, Mrs. John Bradley (Florence Briggs Th...    1  38.0      1      0          PC 17599  71.2833   C85         1\n",
      "2            3         1       3                             Heikkinen, Miss. Laina    1  26.0      0      0  STON/O2. 3101282   7.9250     U         0\n",
      "3            4         1       1       Futrelle, Mrs. Jacques Heath (Lily May Peel)    1  35.0      1      0            113803  53.1000  C123         0\n",
      "4            5         0       3                           Allen, Mr. William Henry    0  35.0      0      0            373450   8.0500     U         0\n"
     ]
    }
   ],
   "source": [
    "sex_map = {'male':0, 'female':1}\n",
    "embark_map = {'S':0, 'C':1, 'Q':2}\n",
    "\n",
    "train_data['Sex'] = train_data['Sex'].map(sex_map)\n",
    "train_data['Embarked'] = train_data['Embarked'].map(embark_map)\n",
    "print(train_data.head())"
   ],
   "metadata": {
    "collapsed": false,
    "ExecuteTime": {
     "end_time": "2023-10-17T15:37:08.195312900Z",
     "start_time": "2023-10-17T15:37:08.157889700Z"
    }
   },
   "id": "a2826bad54b07407"
  },
  {
   "cell_type": "code",
   "execution_count": 8,
   "outputs": [
    {
     "data": {
      "text/plain": "<Figure size 640x480 with 1 Axes>",
      "image/png": "[encoded data removed]"
     },
     "metadata": {},
     "output_type": "display_data"
    }
   ],
   "source": [
    "# 查看男女分别生存多少的柱状图\n",
    "import matplotlib.pyplot as plt\n",
    "\n",
    "plt.rcParams[\"font.sans-serif\"]=['SimHei']\n",
    "plt.rcParams[\"axes.unicode_minus\"]=False # 设置字体，不然matplotlib输出中文会乱码\n",
    "\n",
    "survived_male = train_data[(train_data['Sex'] == 0) & (train_data['Survived'] == 1)] # pandas的条件查询和numpy很像，&是并且的意思\n",
    "survived_female = train_data[(train_data['Sex'] == 1) & (train_data['Survived'] == 1)]\n",
    "x = ['男人', '女人']\n",
    "survived = [len(survived_male), len(survived_female)]\n",
    "for i in range(len(x)):\n",
    "    plt.bar(x[i], survived[i])\n",
    "plt.title('生存人数性别分析v0') # 图表的title\n",
    "plt.xlabel('性别')\n",
    "plt.ylabel('人数')\n",
    "plt.show() # 显示图片"
   ],
   "metadata": {
    "collapsed": false,
    "ExecuteTime": {
     "end_time": "2023-10-17T15:37:12.441196500Z",
     "start_time": "2023-10-17T15:37:11.909447600Z"
    }
   },
   "id": "59b03e3182582bf7"
  },
  {
   "cell_type": "code",
   "execution_count": 9,
   "outputs": [
    {
     "data": {
      "text/plain": "<Figure size 640x480 with 1 Axes>",
      "image/png": "[encoded data removed]"
     },
     "metadata": {},
     "output_type": "display_data"
    }
   ],
   "source": [
    "# 查看不同性别人数分别生存多少\n",
    "bar_1_width = range(0, len(x))\n",
    "bar_2_width = [i+0.3 for i in bar_1_width]\n",
    "\n",
    "dead = [len(train_data) - i for i in survived]\n",
    "\n",
    "plt.bar(bar_1_width, survived, fc='g', width=0.3, label='Survived')\n",
    "plt.bar(bar_2_width, dead, fc='r', width=0.3, label='Dead')\n",
    "plt.xticks(range(0, 2), x)\n",
    "\n",
    "plt.title('生存人数性别分析v1')\n",
    "plt.xlabel('性别')\n",
    "plt.ylabel('人数')\n",
    "\n",
    "plt.legend() # 标示不同图形的文本标签图例\n",
    "plt.show() "
   ],
   "metadata": {
    "collapsed": false,
    "ExecuteTime": {
     "end_time": "2023-10-17T15:37:15.654511Z",
     "start_time": "2023-10-17T15:37:15.536543100Z"
    }
   },
   "id": "c72faa46ace9515f"
  },
  {
   "cell_type": "code",
   "execution_count": 10,
   "outputs": [
    {
     "name": "stdout",
     "output_type": "stream",
     "text": [
      "[10, 20, 30, 40, 50, 60, 70, 80, 90]\n",
      "[62, 102, 397, 167, 89, 48, 19, 6, 1]\n"
     ]
    },
    {
     "data": {
      "text/plain": "<Figure size 640x480 with 1 Axes>",
      "image/png": "[encoded data removed]"
     },
     "metadata": {},
     "output_type": "display_data"
    }
   ],
   "source": [
    "# 查看乘客的年龄分布，首先看最大年龄有多少\n",
    "age_gap = 10\n",
    "MAX_AGE = 80\n",
    "y = []\n",
    "x = []\n",
    "init_age = 0\n",
    "while init_age <= MAX_AGE:\n",
    "    x.append(init_age+10)\n",
    "    num_passenger = len(train_data[(train_data['Age'] >= init_age) & (train_data['Age'] < (init_age + age_gap))])\n",
    "    y.append(num_passenger)\n",
    "    init_age += age_gap\n",
    "print(x)\n",
    "print(y)\n",
    "\n",
    "for i in range(len(x)):\n",
    "    plt.bar(x[i], y[i], width=5)\n",
    "plt.plot(x, y, linestyle='-.', color='black')\n",
    "\n",
    "for a, b in zip(x, y):\n",
    "    plt.text(a, b, '%d'%b)"
   ],
   "metadata": {
    "collapsed": false,
    "ExecuteTime": {
     "end_time": "2023-10-17T15:37:18.274129900Z",
     "start_time": "2023-10-17T15:37:18.164745500Z"
    }
   },
   "id": "ad29818bee8f1ee3"
  }
 ],
 "metadata": {
  "kernelspec": {
   "display_name": "Python 3",
   "language": "python",
   "name": "python3"
  },
  "language_info": {
   "codemirror_mode": {
    "name": "ipython",
    "version": 2
   },
   "file_extension": ".py",
   "mimetype": "text/x-python",
   "name": "python",
   "nbconvert_exporter": "python",
   "pygments_lexer": "ipython2",
   "version": "2.7.6"
  }
 },
 "nbformat": 4,
 "nbformat_minor": 5
}
