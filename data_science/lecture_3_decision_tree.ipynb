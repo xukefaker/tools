{
 "cells": [
  {
   "cell_type": "code",
   "execution_count": 27,
   "id": "initial_id",
   "metadata": {
    "collapsed": true,
    "ExecuteTime": {
     "end_time": "2023-10-31T16:30:39.871252200Z",
     "start_time": "2023-10-31T16:30:39.860249600Z"
    }
   },
   "outputs": [],
   "source": [
    "from keras.datasets import boston_housing\n",
    "from sklearn.tree import DecisionTreeRegressor\n",
    "from sklearn import tree\n",
    "from sklearn.metrics import mean_squared_error, mean_absolute_error, r2_score\n",
    "from sklearn.preprocessing import StandardScaler\n",
    "import numpy as np"
   ]
  },
  {
   "cell_type": "code",
   "execution_count": 28,
   "outputs": [],
   "source": [
    "(X_train, Y_train), (X_test, Y_test) = boston_housing.load_data(test_split=0.2)"
   ],
   "metadata": {
    "collapsed": false,
    "ExecuteTime": {
     "end_time": "2023-10-31T16:30:40.819520700Z",
     "start_time": "2023-10-31T16:30:40.806518Z"
    }
   },
   "id": "fbbcc6b2f3a5c0c7"
  },
  {
   "cell_type": "code",
   "execution_count": 29,
   "outputs": [
    {
     "name": "stdout",
     "output_type": "stream",
     "text": [
      "(404, 13)\n",
      "(404,)\n",
      "(102, 13)\n",
      "(102,)\n"
     ]
    }
   ],
   "source": [
    "print(X_train.shape)\n",
    "print(Y_train.shape)\n",
    "print(X_test.shape)\n",
    "print(Y_test.shape)"
   ],
   "metadata": {
    "collapsed": false,
    "ExecuteTime": {
     "end_time": "2023-10-31T16:30:42.222006900Z",
     "start_time": "2023-10-31T16:30:42.209004500Z"
    }
   },
   "id": "2dee9acc70aaf5d3"
  },
  {
   "cell_type": "code",
   "execution_count": 30,
   "outputs": [],
   "source": [
    "ss_X = StandardScaler()\n",
    "ss_Y = StandardScaler()"
   ],
   "metadata": {
    "collapsed": false,
    "ExecuteTime": {
     "end_time": "2023-10-31T16:30:43.542859200Z",
     "start_time": "2023-10-31T16:30:43.531856800Z"
    }
   },
   "id": "e90ff4629dc3e379"
  },
  {
   "cell_type": "code",
   "execution_count": 31,
   "outputs": [],
   "source": [
    "X_train = ss_X.fit_transform(X_train)\n",
    "X_test = ss_X.transform(X_test)\n",
    "Y_train = ss_Y.fit_transform(Y_train.reshape(-1, 1)) # fit_transform要求输入2D array，需要给Y增加一个维度\n",
    "# Y_test = ss_Y.transform(Y_test.reshape(-1, 1))\n",
    "\n"
   ],
   "metadata": {
    "collapsed": false,
    "ExecuteTime": {
     "end_time": "2023-10-31T16:30:44.714727200Z",
     "start_time": "2023-10-31T16:30:44.701724200Z"
    }
   },
   "id": "13dab4247d1c656"
  },
  {
   "cell_type": "code",
   "execution_count": 25,
   "outputs": [
    {
     "name": "stdout",
     "output_type": "stream",
     "text": [
      "(4, 4)\n",
      "(8, 2)\n"
     ]
    }
   ],
   "source": [
    "# print(Y_train.shape)\n",
    "# print(Y_train.reshape(-1, 1).shape) # reshape(-1, 1)的工作原理\n",
    "# a = np.random.rand(4, 4)\n",
    "# print(a.shape)\n",
    "# a = a.reshape(-1, 2) # -1所在的值由numpy自己算出来\n",
    "# print(a.shape)"
   ],
   "metadata": {
    "collapsed": false,
    "ExecuteTime": {
     "end_time": "2023-10-31T16:27:59.711746400Z",
     "start_time": "2023-10-31T16:27:59.695742400Z"
    }
   },
   "id": "2211a5d6ae2b50c3"
  },
  {
   "cell_type": "code",
   "execution_count": 32,
   "outputs": [
    {
     "data": {
      "text/plain": "DecisionTreeRegressor(max_depth=5)",
      "text/html": "<style>#sk-container-id-2 {color: black;}#sk-container-id-2 pre{padding: 0;}#sk-container-id-2 div.sk-toggleable {background-color: white;}#sk-container-id-2 label.sk-toggleable__label {cursor: pointer;display: block;width: 100%;margin-bottom: 0;padding: 0.3em;box-sizing: border-box;text-align: center;}#sk-container-id-2 label.sk-toggleable__label-arrow:before {content: \"▸\";float: left;margin-right: 0.25em;color: #696969;}#sk-container-id-2 label.sk-toggleable__label-arrow:hover:before {color: black;}#sk-container-id-2 div.sk-estimator:hover label.sk-toggleable__label-arrow:before {color: black;}#sk-container-id-2 div.sk-toggleable__content {max-height: 0;max-width: 0;overflow: hidden;text-align: left;background-color: #f0f8ff;}#sk-container-id-2 div.sk-toggleable__content pre {margin: 0.2em;color: black;border-radius: 0.25em;background-color: #f0f8ff;}#sk-container-id-2 input.sk-toggleable__control:checked~div.sk-toggleable__content {max-height: 200px;max-width: 100%;overflow: auto;}#sk-container-id-2 input.sk-toggleable__control:checked~label.sk-toggleable__label-arrow:before {content: \"▾\";}#sk-container-id-2 div.sk-estimator input.sk-toggleable__control:checked~label.sk-toggleable__label {background-color: #d4ebff;}#sk-container-id-2 div.sk-label input.sk-toggleable__control:checked~label.sk-toggleable__label {background-color: #d4ebff;}#sk-container-id-2 input.sk-hidden--visually {border: 0;clip: rect(1px 1px 1px 1px);clip: rect(1px, 1px, 1px, 1px);height: 1px;margin: -1px;overflow: hidden;padding: 0;position: absolute;width: 1px;}#sk-container-id-2 div.sk-estimator {font-family: monospace;background-color: #f0f8ff;border: 1px dotted black;border-radius: 0.25em;box-sizing: border-box;margin-bottom: 0.5em;}#sk-container-id-2 div.sk-estimator:hover {background-color: #d4ebff;}#sk-container-id-2 div.sk-parallel-item::after {content: \"\";width: 100%;border-bottom: 1px solid gray;flex-grow: 1;}#sk-container-id-2 div.sk-label:hover label.sk-toggleable__label {background-color: #d4ebff;}#sk-container-id-2 div.sk-serial::before {content: \"\";position: absolute;border-left: 1px solid gray;box-sizing: border-box;top: 0;bottom: 0;left: 50%;z-index: 0;}#sk-container-id-2 div.sk-serial {display: flex;flex-direction: column;align-items: center;background-color: white;padding-right: 0.2em;padding-left: 0.2em;position: relative;}#sk-container-id-2 div.sk-item {position: relative;z-index: 1;}#sk-container-id-2 div.sk-parallel {display: flex;align-items: stretch;justify-content: center;background-color: white;position: relative;}#sk-container-id-2 div.sk-item::before, #sk-container-id-2 div.sk-parallel-item::before {content: \"\";position: absolute;border-left: 1px solid gray;box-sizing: border-box;top: 0;bottom: 0;left: 50%;z-index: -1;}#sk-container-id-2 div.sk-parallel-item {display: flex;flex-direction: column;z-index: 1;position: relative;background-color: white;}#sk-container-id-2 div.sk-parallel-item:first-child::after {align-self: flex-end;width: 50%;}#sk-container-id-2 div.sk-parallel-item:last-child::after {align-self: flex-start;width: 50%;}#sk-container-id-2 div.sk-parallel-item:only-child::after {width: 0;}#sk-container-id-2 div.sk-dashed-wrapped {border: 1px dashed gray;margin: 0 0.4em 0.5em 0.4em;box-sizing: border-box;padding-bottom: 0.4em;background-color: white;}#sk-container-id-2 div.sk-label label {font-family: monospace;font-weight: bold;display: inline-block;line-height: 1.2em;}#sk-container-id-2 div.sk-label-container {text-align: center;}#sk-container-id-2 div.sk-container {/* jupyter's `normalize.less` sets `[hidden] { display: none; }` but bootstrap.min.css set `[hidden] { display: none !important; }` so we also need the `!important` here to be able to override the default hidden behavior on the sphinx rendered scikit-learn.org. See: https://github.com/scikit-learn/scikit-learn/issues/21755 */display: inline-block !important;position: relative;}#sk-container-id-2 div.sk-text-repr-fallback {display: none;}</style><div id=\"sk-container-id-2\" class=\"sk-top-container\"><div class=\"sk-text-repr-fallback\"><pre>DecisionTreeRegressor(max_depth=5)</pre><b>In a Jupyter environment, please rerun this cell to show the HTML representation or trust the notebook. <br />On GitHub, the HTML representation is unable to render, please try loading this page with nbviewer.org.</b></div><div class=\"sk-container\" hidden><div class=\"sk-item\"><div class=\"sk-estimator sk-toggleable\"><input class=\"sk-toggleable__control sk-hidden--visually\" id=\"sk-estimator-id-2\" type=\"checkbox\" checked><label for=\"sk-estimator-id-2\" class=\"sk-toggleable__label sk-toggleable__label-arrow\">DecisionTreeRegressor</label><div class=\"sk-toggleable__content\"><pre>DecisionTreeRegressor(max_depth=5)</pre></div></div></div></div></div>"
     },
     "execution_count": 32,
     "metadata": {},
     "output_type": "execute_result"
    }
   ],
   "source": [
    "# 让模型适配数据，即广义的训练过程\n",
    "model = DecisionTreeRegressor(max_depth=5)\n",
    "model.fit(X_train, Y_train)"
   ],
   "metadata": {
    "collapsed": false,
    "ExecuteTime": {
     "end_time": "2023-10-31T16:30:46.677720700Z",
     "start_time": "2023-10-31T16:30:46.649714300Z"
    }
   },
   "id": "3ce02da8d677753f"
  },
  {
   "cell_type": "code",
   "execution_count": 34,
   "outputs": [
    {
     "name": "stdout",
     "output_type": "stream",
     "text": [
      "(102,)\n",
      "[-1.3350056  -0.69015723 -0.18666885  0.16610735 -0.18666885]\n",
      "[ 7.2 18.8 19.  27.  22.2]\n"
     ]
    }
   ],
   "source": [
    "# 模型预测结果\n",
    "Y_pred = model.predict(X_test)\n",
    "print(Y_pred.shape)\n",
    "print(Y_pred[:5]) # 这里注意y_pred是归一化的数据，我们需要还原回去，不然不能合理评估模型表现\n",
    "print(Y_test[:5])"
   ],
   "metadata": {
    "collapsed": false,
    "ExecuteTime": {
     "end_time": "2023-10-31T16:48:31.955193700Z",
     "start_time": "2023-10-31T16:48:31.923187100Z"
    }
   },
   "id": "771b3568f51654fd"
  },
  {
   "cell_type": "code",
   "execution_count": 37,
   "outputs": [],
   "source": [
    "Y_pred_inverse = ss_Y.inverse_transform(Y_pred.reshape(-1, 1)) # inverse_transform也要求2D array，需要reshape\n",
    "MSE_score = mean_squared_error(Y_test, Y_pred_inverse)\n",
    "MAE_score = mean_absolute_error(Y_test, Y_pred_inverse)\n",
    "R2_score = r2_score(Y_test, Y_pred_inverse)"
   ],
   "metadata": {
    "collapsed": false,
    "ExecuteTime": {
     "end_time": "2023-10-31T16:52:17.833488600Z",
     "start_time": "2023-10-31T16:52:17.786481100Z"
    }
   },
   "id": "c2f7dc908a862bf7"
  },
  {
   "cell_type": "code",
   "execution_count": 38,
   "outputs": [
    {
     "name": "stdout",
     "output_type": "stream",
     "text": [
      "MSE score:18.4309\n",
      "MAE score:3.0355\n",
      "R2 score:0.7786\n"
     ]
    }
   ],
   "source": [
    "print('MSE score:{:.4f}'.format(MSE_score))\n",
    "print('MAE score:{:.4f}'.format(MAE_score))\n",
    "print('R2 score:{:.4f}'.format(R2_score))"
   ],
   "metadata": {
    "collapsed": false,
    "ExecuteTime": {
     "end_time": "2023-10-31T16:53:07.775165600Z",
     "start_time": "2023-10-31T16:53:07.739157100Z"
    }
   },
   "id": "9cdd04de43687db4"
  },
  {
   "cell_type": "code",
   "execution_count": 40,
   "outputs": [],
   "source": [
    "with open('boston.dot', 'w') as f:\n",
    "    f = tree.export_graphviz(model, out_file=f)"
   ],
   "metadata": {
    "collapsed": false,
    "ExecuteTime": {
     "end_time": "2023-10-31T17:02:46.927440600Z",
     "start_time": "2023-10-31T17:02:46.909436700Z"
    }
   },
   "id": "80a6338dffa3ed31"
  },
  {
   "cell_type": "code",
   "execution_count": null,
   "outputs": [],
   "source": [
    "# 评估模型，对于回归问题我们选择的评估方法会有区别。这里选择MSE\\"
   ],
   "metadata": {
    "collapsed": false
   },
   "id": "ba519c2950236ca0"
  },
  {
   "cell_type": "markdown",
   "source": [
    "### <center>标准化归一:为什么要归一化？</center>\n",
    "\n",
    "比如年龄和薪水折两个属性，一个最大不超过120，一个多的有几十万几百万，如果直接扔给模型进行学习，那么模型的参数变化就会完全被薪水这样变化幅度非常大的属性控制，导致其他属性变的无关紧要。\n",
    "我们选择最常见的分布：0-1标准正态分布\n",
    "<center>均值公式：$ \\overline{X} = \\frac{1}{n} \\sum_{i=1}^{n}X_i $ </center>\n",
    "<center>方差公式：$ \\sigma^2 = \\frac{1}{n}\\sum_{i=1}^{n}(X_i - \\overline{X})^2 $ </center>\n",
    "<center>标准差公式：$ \\sigma = \\sqrt{\\frac{1}{n}\\sum_{i=1}^{n}(X_i - \\overline{X})^2}$ </center>\n",
    "<center>标准化: $ \\hat{X_i} = \\frac{X_i - \\overline{X}}{\\sigma} $ </center>\n",
    "<center>$ MSE= \\frac{1}{n}\\sum_{i=1}^{n}(y_i - \\hat{y_i})^2 $ </center>\n",
    "<center>$ MAE= \\frac{1}{n}\\sum_{i=1}^{n}|(y_i - \\hat{y_i})| $ </center>\n",
    "<center>$ R2= 1 - \\frac {\\sum_i(\\hat{y_i} - y_i)^2} {\\sum_i(\\overline{y} - y_i)^2} $ </center>"
   ],
   "metadata": {
    "collapsed": false
   },
   "id": "49bf1e330e6e65f4"
  }
 ],
 "metadata": {
  "kernelspec": {
   "display_name": "Python 3",
   "language": "python",
   "name": "python3"
  },
  "language_info": {
   "codemirror_mode": {
    "name": "ipython",
    "version": 2
   },
   "file_extension": ".py",
   "mimetype": "text/x-python",
   "name": "python",
   "nbconvert_exporter": "python",
   "pygments_lexer": "ipython2",
   "version": "2.7.6"
  }
 },
 "nbformat": 4,
 "nbformat_minor": 5
}
