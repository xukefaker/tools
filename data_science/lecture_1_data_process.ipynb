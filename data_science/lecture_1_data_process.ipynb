{
 "cells": [
  {
   "cell_type": "code",
   "execution_count": 2,
   "id": "initial_id",
   "metadata": {
    "collapsed": true,
    "ExecuteTime": {
     "end_time": "2023-09-20T03:42:51.798094700Z",
     "start_time": "2023-09-20T03:42:51.650338700Z"
    }
   },
   "outputs": [],
   "source": [
    "import numpy as np"
   ]
  },
  {
   "cell_type": "code",
   "execution_count": 3,
   "outputs": [
    {
     "name": "stdout",
     "output_type": "stream",
     "text": [
      "<class 'numpy.ndarray'>\n"
     ]
    }
   ],
   "source": [
    "data = np.genfromtxt('salaries.txt', delimiter=',', dtype=str)\n",
    "print(type(data))"
   ],
   "metadata": {
    "collapsed": false,
    "ExecuteTime": {
     "end_time": "2023-09-20T03:42:52.899797200Z",
     "start_time": "2023-09-20T03:42:52.865966100Z"
    }
   },
   "id": "a42109cbded38d49"
  },
  {
   "cell_type": "code",
   "execution_count": 45,
   "outputs": [
    {
     "name": "stdout",
     "output_type": "stream",
     "text": [
      "(398, 7)\n",
      "398\n",
      "7\n"
     ]
    }
   ],
   "source": [
    "# 查看数据量和内容\n",
    "print(data.shape)\n",
    "print(data.shape[0])\n",
    "print(data.shape[1])"
   ],
   "metadata": {
    "collapsed": false,
    "ExecuteTime": {
     "end_time": "2023-09-20T02:57:21.565171Z",
     "start_time": "2023-09-20T02:57:21.538448100Z"
    }
   },
   "id": "4504f8780d13ab83"
  },
  {
   "cell_type": "code",
   "execution_count": 46,
   "outputs": [
    {
     "name": "stdout",
     "output_type": "stream",
     "text": [
      "[['\"\"' '\"rank\"' '\"discipline\"' '\"yrs.since.phd\"' '\"yrs.service\"' '\"sex\"'\n",
      "  '\"salary\"']\n",
      " ['\"1\"' '\"Prof\"' '\"B\"' '19' '18' '\"Male\"' '139750']\n",
      " ['\"2\"' '\"Prof\"' '\"B\"' '20' '16' '\"Male\"' '173200']\n",
      " ['\"3\"' '\"AsstProf\"' '\"B\"' '4' '3' '\"Male\"' '79750']\n",
      " ['\"4\"' '\"Prof\"' '\"B\"' '45' '39' '\"Male\"' '115000']]\n"
     ]
    }
   ],
   "source": [
    "# 查看具体数据\n",
    "print(data[:5])"
   ],
   "metadata": {
    "collapsed": false,
    "ExecuteTime": {
     "end_time": "2023-09-20T02:57:22.551309400Z",
     "start_time": "2023-09-20T02:57:22.522089100Z"
    }
   },
   "id": "8c9d8098f347e3e7"
  },
  {
   "cell_type": "code",
   "execution_count": 4,
   "outputs": [
    {
     "name": "stdout",
     "output_type": "stream",
     "text": [
      "(397, 7)\n",
      "[['\"1\"' '\"Prof\"' '\"B\"' '19' '18' '\"Male\"' '139750']\n",
      " ['\"2\"' '\"Prof\"' '\"B\"' '20' '16' '\"Male\"' '173200']\n",
      " ['\"3\"' '\"AsstProf\"' '\"B\"' '4' '3' '\"Male\"' '79750']\n",
      " ['\"4\"' '\"Prof\"' '\"B\"' '45' '39' '\"Male\"' '115000']\n",
      " ['\"5\"' '\"Prof\"' '\"B\"' '40' '41' '\"Male\"' '141500']]\n"
     ]
    }
   ],
   "source": [
    "# 去掉表头\n",
    "header = data[0]\n",
    "data = data[1:]\n",
    "print(data.shape)\n",
    "print(data[:5])"
   ],
   "metadata": {
    "collapsed": false,
    "ExecuteTime": {
     "end_time": "2023-09-20T03:42:55.748118700Z",
     "start_time": "2023-09-20T03:42:55.720279900Z"
    }
   },
   "id": "4ef5dbfcca9968d9"
  },
  {
   "cell_type": "code",
   "execution_count": 5,
   "outputs": [
    {
     "name": "stdout",
     "output_type": "stream",
     "text": [
      "{'\"Prof\"', '\"AsstProf\"', '\"AssocProf\"'}\n",
      "{'\"A\"', '\"B\"'}\n",
      "{'\"Female\"', '\"Male\"'}\n",
      "['19' '20' '4' '45' '40']\n",
      "['18' '16' '3' '39' '41']\n",
      "['\"Male\"' '\"Male\"' '\"Male\"' '\"Male\"' '\"Male\"']\n",
      "['139750' '173200' '79750' '115000' '141500']\n"
     ]
    }
   ],
   "source": [
    "# 将这个ndarray全部数字化，每一行要知道取值范围\n",
    "rank = data[:, 1]\n",
    "discipline = data[:, 2]\n",
    "yrs_since_phd = data[:, 3]\n",
    "yrs_service = data[:, 4]\n",
    "sex = data[:, 5]\n",
    "salary = data[:, 6]\n",
    "\n",
    "print(set(rank))\n",
    "print(set(discipline))\n",
    "print(set(sex))\n",
    "print(yrs_since_phd[:5])\n",
    "print(yrs_service[:5])\n",
    "print(sex[:5])\n",
    "print(salary[:5])\n"
   ],
   "metadata": {
    "collapsed": false,
    "ExecuteTime": {
     "end_time": "2023-09-20T03:42:59.514464700Z",
     "start_time": "2023-09-20T03:42:59.485654800Z"
    }
   },
   "id": "d9bb3bac672c83b4"
  },
  {
   "cell_type": "code",
   "execution_count": 6,
   "outputs": [
    {
     "name": "stdout",
     "output_type": "stream",
     "text": [
      "[19 20  4 45 40]\n",
      "[18 16  3 39 41]\n",
      "[139750 173200  79750 115000 141500]\n"
     ]
    }
   ],
   "source": [
    "yrs_since_phd = yrs_since_phd.astype('int')\n",
    "yrs_service = yrs_service.astype('int')\n",
    "salary = salary.astype('int')\n",
    "print(yrs_since_phd[:5])\n",
    "print(yrs_service[:5])\n",
    "print(salary[:5])"
   ],
   "metadata": {
    "collapsed": false,
    "ExecuteTime": {
     "end_time": "2023-09-20T03:43:02.612601900Z",
     "start_time": "2023-09-20T03:43:02.584140300Z"
    }
   },
   "id": "632e7e0825c71395"
  },
  {
   "cell_type": "code",
   "execution_count": 7,
   "outputs": [
    {
     "name": "stdout",
     "output_type": "stream",
     "text": [
      "['\"Prof\"' '\"Prof\"' '\"AsstProf\"' '\"Prof\"' '\"Prof\"']\n"
     ]
    }
   ],
   "source": [
    "# 定义一些映射关系\n",
    "rank2num = {\n",
    "    '\"AssocProf\"':0,\n",
    "    '\"AsstProf\"':1,\n",
    "    '\"Prof\"':2\n",
    "}\n",
    "discipline2num = {\n",
    "    '\"A\"':0,\n",
    "    '\"B\"':1\n",
    "}\n",
    "sex2num = {\n",
    "    '\"Male\"':0,\n",
    "    '\"Female\"':1\n",
    "}\n",
    "# 修改不起作用\n",
    "for value in rank:\n",
    "    value = rank2num[value]\n",
    "print(rank[:5])\n",
    "# 要访问原对象修改\n",
    "\n",
    "# rank[0] = 2\n",
    "# print(rank[:5])\n",
    "# rank[0] = '\"Prof\"'"
   ],
   "metadata": {
    "collapsed": false,
    "ExecuteTime": {
     "end_time": "2023-09-20T03:43:14.212976500Z",
     "start_time": "2023-09-20T03:43:14.182636100Z"
    }
   },
   "id": "f521765706b5ea50"
  },
  {
   "cell_type": "code",
   "execution_count": 8,
   "outputs": [
    {
     "name": "stdout",
     "output_type": "stream",
     "text": [
      "['2' '2' '1' '2' '2']\n",
      "['1' '1' '1' '1' '1']\n",
      "['0' '0' '0' '0' '0']\n"
     ]
    }
   ],
   "source": [
    "for index, value in enumerate(rank):\n",
    "    rank[index] = rank2num[value]\n",
    "for index, value in enumerate(discipline):\n",
    "    discipline[index] = discipline2num[value]\n",
    "for index, value in enumerate(sex):\n",
    "    sex[index] = sex2num[value]\n",
    "\n",
    "print(rank[:5])\n",
    "print(discipline[:5])\n",
    "print(sex[:5])"
   ],
   "metadata": {
    "collapsed": false,
    "ExecuteTime": {
     "end_time": "2023-09-20T03:43:22.923384600Z",
     "start_time": "2023-09-20T03:43:22.894423700Z"
    }
   },
   "id": "29438cf0a8553059"
  },
  {
   "cell_type": "code",
   "execution_count": 9,
   "outputs": [
    {
     "name": "stdout",
     "output_type": "stream",
     "text": [
      "[2 2 1 2 2]\n",
      "[1 1 1 1 1]\n",
      "[0 0 0 0 0]\n"
     ]
    }
   ],
   "source": [
    "rank = rank.astype(int)\n",
    "discipline = discipline.astype(int)\n",
    "sex = sex.astype(int)\n",
    "print(rank[:5])\n",
    "print(discipline[:5])\n",
    "print(sex[:5])"
   ],
   "metadata": {
    "collapsed": false,
    "ExecuteTime": {
     "end_time": "2023-09-20T03:43:25.542499200Z",
     "start_time": "2023-09-20T03:43:25.493443100Z"
    }
   },
   "id": "367756553a82e711"
  },
  {
   "cell_type": "code",
   "execution_count": 54,
   "outputs": [
    {
     "name": "stdout",
     "output_type": "stream",
     "text": [
      "[2 2 1 2 2]\n",
      "[1 1 1 1 1]\n",
      "[19 20  4 45 40]\n",
      "[18 16  3 39 41]\n",
      "[0 0 0 0 0]\n",
      "[139750 173200  79750 115000 141500]\n"
     ]
    }
   ],
   "source": [
    "\n",
    "print(rank[:5])\n",
    "print(discipline[:5])\n",
    "print(yrs_since_phd[:5])\n",
    "print(yrs_service[:5])\n",
    "print(sex[:5])\n",
    "print(salary[:5])\n"
   ],
   "metadata": {
    "collapsed": false,
    "ExecuteTime": {
     "end_time": "2023-09-20T03:01:35.267820800Z",
     "start_time": "2023-09-20T03:01:35.225665300Z"
    }
   },
   "id": "f56a02cb0b7866fc"
  },
  {
   "cell_type": "code",
   "execution_count": 11,
   "outputs": [
    {
     "name": "stdout",
     "output_type": "stream",
     "text": [
      "(6, 397)\n"
     ]
    }
   ],
   "source": [
    "data = np.vstack((rank, discipline, yrs_since_phd, yrs_service, sex, salary))\n",
    "print(data.shape)\n",
    "data = data.T"
   ],
   "metadata": {
    "collapsed": false,
    "ExecuteTime": {
     "end_time": "2023-09-20T03:43:45.087678800Z",
     "start_time": "2023-09-20T03:43:45.057118500Z"
    }
   },
   "id": "599e6e2993fd441"
  },
  {
   "cell_type": "code",
   "execution_count": 12,
   "outputs": [
    {
     "name": "stdout",
     "output_type": "stream",
     "text": [
      "(397, 6)\n",
      "[[     2      1     19     18      0 139750]\n",
      " [     2      1     20     16      0 173200]\n",
      " [     1      1      4      3      0  79750]\n",
      " [     2      1     45     39      0 115000]\n",
      " [     2      1     40     41      0 141500]]\n"
     ]
    }
   ],
   "source": [
    "\n",
    "print(data.shape)\n",
    "print(data[:5])"
   ],
   "metadata": {
    "collapsed": false,
    "ExecuteTime": {
     "end_time": "2023-09-20T03:43:49.074357200Z",
     "start_time": "2023-09-20T03:43:49.047497600Z"
    }
   },
   "id": "710919a90a83ad79"
  },
  {
   "cell_type": "code",
   "execution_count": 29,
   "outputs": [
    {
     "name": "stdout",
     "output_type": "stream",
     "text": [
      "61\n",
      "12\n",
      "113706.45843828715\n",
      "113706.46\n",
      "48\n",
      "48\n"
     ]
    }
   ],
   "source": [
    "# 求出3年内入职的老师的数量\n",
    "print(np.sum(data[:, 3] <= 3))\n",
    "# 求出薪水找过18w的老师的数量\n",
    "print(np.sum(data[:, 5] >= 180000))\n",
    "# 求出老师们的平均薪资\n",
    "print(np.mean(data[:, 5]))\n",
    "print('{:.2f}'.format(np.mean(data[:, 5])))\n",
    "\n",
    "# 统计男女性别比例？统计不同教职的数量？工作时间超过10年单身薪资低于10w的人数？\n",
    "# print(data[np.where((data[:, 5] <= 100000) & (data[:, 3] >= 10))][:, [3,5]]) # 获取某些特定行和列的方法\n",
    "index = np.where((data[:, 5] <= 100000) & (data[:, 3] >= 10)) # 多条件查询的方法：np.where\n",
    "print(np.count_nonzero(index)) # 统计非0个数的方法"
   ],
   "metadata": {
    "collapsed": false,
    "ExecuteTime": {
     "end_time": "2023-09-20T03:53:48.547054100Z",
     "start_time": "2023-09-20T03:53:48.507462600Z"
    }
   },
   "id": "e1e5fa7694f59606"
  }
 ],
 "metadata": {
  "kernelspec": {
   "display_name": "Python 3",
   "language": "python",
   "name": "python3"
  },
  "language_info": {
   "codemirror_mode": {
    "name": "ipython",
    "version": 2
   },
   "file_extension": ".py",
   "mimetype": "text/x-python",
   "name": "python",
   "nbconvert_exporter": "python",
   "pygments_lexer": "ipython2",
   "version": "2.7.6"
  }
 },
 "nbformat": 4,
 "nbformat_minor": 5
}
