{
 "cells": [
  {
   "cell_type": "markdown",
   "source": [
    "$$ r = \\ln \\frac{p_t}{p_{t-1}} $$"
   ],
   "metadata": {
    "collapsed": false
   },
   "id": "2863c69192d09dcd"
  },
  {
   "cell_type": "markdown",
   "source": [
    "$$a^5$$"
   ],
   "metadata": {
    "collapsed": false
   },
   "id": "d357ec9906c67561"
  },
  {
   "cell_type": "code",
   "execution_count": 1,
   "outputs": [
    {
     "name": "stdout",
     "output_type": "stream",
     "text": [
      "1\n",
      "None\n"
     ]
    }
   ],
   "source": [
    "print(print(1))"
   ],
   "metadata": {
    "collapsed": false,
    "ExecuteTime": {
     "end_time": "2023-09-19T09:23:52.642699700Z",
     "start_time": "2023-09-19T09:23:52.635642700Z"
    }
   },
   "id": "6bed09478b267581"
  }
 ],
 "metadata": {
  "kernelspec": {
   "display_name": "Python 3",
   "language": "python",
   "name": "python3"
  },
  "language_info": {
   "codemirror_mode": {
    "name": "ipython",
    "version": 2
   },
   "file_extension": ".py",
   "mimetype": "text/x-python",
   "name": "python",
   "nbconvert_exporter": "python",
   "pygments_lexer": "ipython2",
   "version": "2.7.6"
  }
 },
 "nbformat": 4,
 "nbformat_minor": 5
}
