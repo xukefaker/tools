{
 "cells": [
  {
   "cell_type": "code",
   "execution_count": 1,
   "id": "initial_id",
   "metadata": {
    "collapsed": true,
    "ExecuteTime": {
     "end_time": "2023-09-19T07:54:40.593166200Z",
     "start_time": "2023-09-19T07:54:40.587848500Z"
    }
   },
   "outputs": [],
   "source": [
    "# 在python中，我们有三种最基本的数据类型：数字、字符串和布尔类型\n",
    "\n",
    "a = 42\n",
    "b = 3.14\n",
    "c = -45.1 # 有整数有小数\n",
    "\n",
    "string_a = 'hello!'\n",
    "string_b = 'a' #单个字符也相当于字符串\n",
    "\n",
    "flag_a = True\n",
    "flag_b = False #真和假，用来逻辑控制的"
   ]
  },
  {
   "cell_type": "code",
   "execution_count": 2,
   "outputs": [
    {
     "data": {
      "text/plain": "int"
     },
     "execution_count": 2,
     "metadata": {},
     "output_type": "execute_result"
    }
   ],
   "source": [
    "# 我们遇到一个对象，可以用python内置的函数type()来查看其类型\n",
    "type(a)"
   ],
   "metadata": {
    "collapsed": false,
    "ExecuteTime": {
     "end_time": "2023-09-19T07:55:26.227498400Z",
     "start_time": "2023-09-19T07:55:26.195932400Z"
    }
   },
   "id": "1c0a27a5c7aaefd7"
  },
  {
   "cell_type": "code",
   "execution_count": 3,
   "outputs": [
    {
     "data": {
      "text/plain": "bool"
     },
     "execution_count": 3,
     "metadata": {},
     "output_type": "execute_result"
    }
   ],
   "source": [
    "type(flag_a)"
   ],
   "metadata": {
    "collapsed": false,
    "ExecuteTime": {
     "end_time": "2023-09-19T07:56:25.498644Z",
     "start_time": "2023-09-19T07:56:25.471065600Z"
    }
   },
   "id": "4d27d59f7f6bffa0"
  },
  {
   "cell_type": "code",
   "execution_count": 4,
   "outputs": [
    {
     "data": {
      "text/plain": "str"
     },
     "execution_count": 4,
     "metadata": {},
     "output_type": "execute_result"
    }
   ],
   "source": [
    "type(string_a)"
   ],
   "metadata": {
    "collapsed": false,
    "ExecuteTime": {
     "end_time": "2023-09-19T07:56:33.399079900Z",
     "start_time": "2023-09-19T07:56:33.375081100Z"
    }
   },
   "id": "f888b90c691d3974"
  },
  {
   "cell_type": "code",
   "execution_count": 5,
   "outputs": [
    {
     "data": {
      "text/plain": "list"
     },
     "execution_count": 5,
     "metadata": {},
     "output_type": "execute_result"
    }
   ],
   "source": [
    "# 在这些最最基本的数据类型之上，我们可以构造一些更高级的数据类型，比如list（列表）\n",
    "list_a = [a, b, c]\n",
    "type(list_a)"
   ],
   "metadata": {
    "collapsed": false,
    "ExecuteTime": {
     "end_time": "2023-09-19T07:57:49.705637400Z",
     "start_time": "2023-09-19T07:57:49.697781600Z"
    }
   },
   "id": "fdff051ecf8d626f"
  },
  {
   "cell_type": "code",
   "execution_count": 8,
   "outputs": [
    {
     "name": "stdout",
     "output_type": "stream",
     "text": [
      "<class 'int'>\n"
     ]
    },
    {
     "data": {
      "text/plain": "float"
     },
     "execution_count": 8,
     "metadata": {},
     "output_type": "execute_result"
    }
   ],
   "source": [
    "# python是动态类型语言，变量的类型可以随意变换\n",
    "a = 42\n",
    "print(type(a))\n",
    "a = 99.13\n",
    "type(a)"
   ],
   "metadata": {
    "collapsed": false,
    "ExecuteTime": {
     "end_time": "2023-09-19T08:02:22.478473600Z",
     "start_time": "2023-09-19T08:02:22.463052100Z"
    }
   },
   "id": "357108a95c907096"
  },
  {
   "cell_type": "code",
   "execution_count": 9,
   "outputs": [
    {
     "ename": "NameError",
     "evalue": "name 'x' is not defined",
     "output_type": "error",
     "traceback": [
      "\u001B[1;31m---------------------------------------------------------------------------\u001B[0m",
      "\u001B[1;31mNameError\u001B[0m                                 Traceback (most recent call last)",
      "Cell \u001B[1;32mIn[9], line 1\u001B[0m\n\u001B[1;32m----> 1\u001B[0m \u001B[38;5;28mprint\u001B[39m(\u001B[43mx\u001B[49m)\n",
      "\u001B[1;31mNameError\u001B[0m: name 'x' is not defined"
     ]
    }
   ],
   "source": [
    "print(x)"
   ],
   "metadata": {
    "collapsed": false,
    "ExecuteTime": {
     "end_time": "2023-09-19T08:09:28.261787300Z",
     "start_time": "2023-09-19T08:09:27.751025Z"
    }
   },
   "id": "d4acb860afc4a36f"
  },
  {
   "cell_type": "code",
   "execution_count": 10,
   "outputs": [
    {
     "name": "stdout",
     "output_type": "stream",
     "text": [
      "None\n"
     ]
    }
   ],
   "source": [
    "x = None\n",
    "print(x)"
   ],
   "metadata": {
    "collapsed": false,
    "ExecuteTime": {
     "end_time": "2023-09-19T08:10:48.314990400Z",
     "start_time": "2023-09-19T08:10:48.308480900Z"
    }
   },
   "id": "f5559877d8ebb014"
  },
  {
   "cell_type": "code",
   "execution_count": 11,
   "outputs": [
    {
     "ename": "NameError",
     "evalue": "name 'x' is not defined",
     "output_type": "error",
     "traceback": [
      "\u001B[1;31m---------------------------------------------------------------------------\u001B[0m",
      "\u001B[1;31mNameError\u001B[0m                                 Traceback (most recent call last)",
      "Cell \u001B[1;32mIn[11], line 2\u001B[0m\n\u001B[0;32m      1\u001B[0m \u001B[38;5;28;01mdel\u001B[39;00m x\n\u001B[1;32m----> 2\u001B[0m \u001B[38;5;28mprint\u001B[39m(\u001B[43mx\u001B[49m)\n",
      "\u001B[1;31mNameError\u001B[0m: name 'x' is not defined"
     ]
    }
   ],
   "source": [
    "# del可以从内存中清除一个对象\n",
    "del x\n",
    "print(x)"
   ],
   "metadata": {
    "collapsed": false,
    "ExecuteTime": {
     "end_time": "2023-09-19T08:10:54.732289900Z",
     "start_time": "2023-09-19T08:10:54.706237800Z"
    }
   },
   "id": "11c11a5622266e21"
  },
  {
   "cell_type": "code",
   "execution_count": 5,
   "outputs": [
    {
     "name": "stdout",
     "output_type": "stream",
     "text": [
      "38.4\n",
      "-588\n",
      "1764\n",
      "6.0\n",
      "7\n",
      "0\n",
      "7.0\n",
      "0.10000000000000009\n"
     ]
    }
   ],
   "source": [
    "# python的运算符有：数值运算符、逻辑运算符、比较运算符等\n",
    "a = 42\n",
    "b = 3.6\n",
    "c = -14\n",
    "d = 3.14\n",
    "\n",
    "print(a - b)\n",
    "print(a * c)\n",
    "print(a ** 2)\n",
    "print(a / 7)\n",
    "print(a // 6) # 地板除，floor division\n",
    "print(a % 6) # 取余\n",
    "print(b // 0.5)\n",
    "print(b % 0.5)"
   ],
   "metadata": {
    "collapsed": false,
    "ExecuteTime": {
     "end_time": "2023-09-20T03:28:41.365336500Z",
     "start_time": "2023-09-20T03:28:41.317583200Z"
    }
   },
   "id": "52011d10e8badc48"
  },
  {
   "cell_type": "code",
   "execution_count": 4,
   "outputs": [
    {
     "name": "stdout",
     "output_type": "stream",
     "text": [
      "3.5999999999999996\n",
      "False\n",
      "4.440892098500626e-16\n",
      "True\n"
     ]
    }
   ],
   "source": [
    "# 由于二进制本身的问题，计算机表示小数只能做到近似（即将一个数拆解成1/2 + 1/4....这种，一定会有精度丢失）\n",
    "print(6*0.6)\n",
    "print(6*0.6 == 3.6)\n",
    "\n",
    "THETA = 0.001 # 判断浮点数相等，允许的误差范围\n",
    "print(abs(6*0.6 - 3.6)) # 这个数值会非常小\n",
    "print(abs(6*0.6 - 3.6) <= THETA)\n",
    "\n",
    "\n"
   ],
   "metadata": {
    "collapsed": false,
    "ExecuteTime": {
     "end_time": "2023-09-20T03:22:13.868581900Z",
     "start_time": "2023-09-20T03:22:13.838920900Z"
    }
   },
   "id": "fa5d5facc9f60908"
  },
  {
   "cell_type": "code",
   "execution_count": 8,
   "outputs": [
    {
     "name": "stdout",
     "output_type": "stream",
     "text": [
      "False\n",
      "True\n"
     ]
    }
   ],
   "source": [
    "# 比较运算符\n",
    "a = 3\n",
    "b = 4\n",
    "c = -14\n",
    "d = 3\n",
    "print(a == b)\n",
    "print(a == d)\n",
    "# != <= >="
   ],
   "metadata": {
    "collapsed": false,
    "ExecuteTime": {
     "end_time": "2023-09-20T03:30:09.158065200Z",
     "start_time": "2023-09-20T03:30:09.111096400Z"
    }
   },
   "id": "5a30369853674ad4"
  },
  {
   "cell_type": "code",
   "execution_count": 10,
   "outputs": [
    {
     "name": "stdout",
     "output_type": "stream",
     "text": [
      "1\n",
      "2\n",
      "4\n"
     ]
    }
   ],
   "source": [
    "# 自增语法糖\n",
    "a = 1 \n",
    "print(a)\n",
    "a += 1  # a = a + 1\n",
    "print(a)\n",
    "a *= 2\n",
    "print(a)"
   ],
   "metadata": {
    "collapsed": false,
    "ExecuteTime": {
     "end_time": "2023-09-20T03:31:55.692391200Z",
     "start_time": "2023-09-20T03:31:55.647397200Z"
    }
   },
   "id": "2956f16cbdde8eaa"
  },
  {
   "cell_type": "markdown",
   "source": [
    "$$ f(a,b) = \\sqrt{a^2 + b^2} $$"
   ],
   "metadata": {
    "collapsed": false
   },
   "id": "8cfc13422b361e7c"
  },
  {
   "cell_type": "code",
   "execution_count": 1,
   "outputs": [
    {
     "name": "stdout",
     "output_type": "stream",
     "text": [
      "9.695359714832659\n"
     ]
    }
   ],
   "source": [
    "# python有很多自带的函数，有的不需要引入就可以用，有的需要import\n",
    "import math\n",
    "\n",
    "a = 94\n",
    "\n",
    "print(math.sqrt(a))"
   ],
   "metadata": {
    "collapsed": false,
    "ExecuteTime": {
     "end_time": "2023-09-19T09:28:33.594666500Z",
     "start_time": "2023-09-19T09:28:33.576553200Z"
    }
   },
   "id": "9ecf57809fcc1463"
  },
  {
   "cell_type": "code",
   "execution_count": 2,
   "outputs": [
    {
     "name": "stdout",
     "output_type": "stream",
     "text": [
      "5.0\n"
     ]
    }
   ],
   "source": [
    "def f(a, b):\n",
    "    result = math.sqrt( a ** 2 + b ** 2)\n",
    "    return result\n",
    "\n",
    "print(f(3, 4))"
   ],
   "metadata": {
    "collapsed": false,
    "ExecuteTime": {
     "end_time": "2023-09-19T15:31:13.530345100Z",
     "start_time": "2023-09-19T15:31:13.528328700Z"
    }
   },
   "id": "ce06c730871eac57"
  },
  {
   "cell_type": "code",
   "execution_count": 3,
   "outputs": [
    {
     "name": "stdout",
     "output_type": "stream",
     "text": [
      "A\n"
     ]
    }
   ],
   "source": [
    "def score2grade(score):\n",
    "    if score >= 90:\n",
    "        print('A')\n",
    "    elif score >= 80:\n",
    "        print('B')\n",
    "    elif score >= 70:\n",
    "        print('C')\n",
    "    elif score >= 60:\n",
    "        print('D')\n",
    "    else:\n",
    "        print('failed')\n",
    "score = int(input('请输入学生的分数...'))\n",
    "score2grade(score)"
   ],
   "metadata": {
    "collapsed": false,
    "ExecuteTime": {
     "end_time": "2023-09-19T18:04:24.732420300Z",
     "start_time": "2023-09-19T18:04:18.620530800Z"
    }
   },
   "id": "c5b23566c005a92c"
  },
  {
   "cell_type": "code",
   "execution_count": 8,
   "outputs": [
    {
     "name": "stdout",
     "output_type": "stream",
     "text": [
      "yes\n",
      "True\n"
     ]
    }
   ],
   "source": [
    "# 程序控制流之 if else\n",
    "s = ' '\n",
    "if s:\n",
    "    print('yes')\n",
    "print(bool(s))"
   ],
   "metadata": {
    "collapsed": false,
    "ExecuteTime": {
     "end_time": "2023-09-19T18:07:58.830373100Z",
     "start_time": "2023-09-19T18:07:58.804617800Z"
    }
   },
   "id": "9e960f67e89918a4"
  },
  {
   "cell_type": "code",
   "execution_count": 12,
   "outputs": [
    {
     "name": "stdout",
     "output_type": "stream",
     "text": [
      "h\n",
      "e\n",
      "l\n",
      "l\n",
      "o\n",
      ",\n",
      " \n",
      "w\n",
      "o\n",
      "r\n",
      "l\n",
      "d\n",
      "True\n"
     ]
    }
   ],
   "source": [
    "# 程序控制流之for loop\n",
    "a = 'hello, world'\n",
    "for c in a:\n",
    "    print(c)\n",
    "from collections.abc import Iterable\n",
    "\n",
    "print(isinstance(a, Iterable))"
   ],
   "metadata": {
    "collapsed": false,
    "ExecuteTime": {
     "end_time": "2023-09-19T18:14:09.408022800Z",
     "start_time": "2023-09-19T18:14:09.382022Z"
    }
   },
   "id": "deae51a5f20bd86b"
  },
  {
   "cell_type": "code",
   "execution_count": 13,
   "outputs": [
    {
     "name": "stdout",
     "output_type": "stream",
     "text": [
      "0\n",
      "1\n",
      "2\n",
      "3\n",
      "4\n",
      "5\n"
     ]
    }
   ],
   "source": [
    "# 程序控制流之while loop\n",
    "count = 0\n",
    "while count <= 5:\n",
    "    print(count)\n",
    "    count += 1"
   ],
   "metadata": {
    "collapsed": false,
    "ExecuteTime": {
     "end_time": "2023-09-19T18:15:10.717833Z",
     "start_time": "2023-09-19T18:15:10.692042500Z"
    }
   },
   "id": "f9353709a5e77677"
  },
  {
   "cell_type": "code",
   "execution_count": 14,
   "outputs": [
    {
     "name": "stdout",
     "output_type": "stream",
     "text": [
      "range(0, 10)\n",
      "1\n",
      "3\n",
      "5\n",
      "7\n",
      "9\n"
     ]
    }
   ],
   "source": [
    "d = 10\n",
    "print(range(d))\n",
    "for i in range(d):\n",
    "    if i % 2 == 0:\n",
    "        continue\n",
    "    else:\n",
    "        print(i)"
   ],
   "metadata": {
    "collapsed": false,
    "ExecuteTime": {
     "end_time": "2023-09-19T18:17:40.427653100Z",
     "start_time": "2023-09-19T18:17:40.379883400Z"
    }
   },
   "id": "3d76a32619a2621a"
  },
  {
   "cell_type": "code",
   "execution_count": 15,
   "outputs": [
    {
     "name": "stdout",
     "output_type": "stream",
     "text": [
      "0\n",
      "1\n",
      "2\n",
      "3\n",
      "4\n"
     ]
    }
   ],
   "source": [
    "count = 0\n",
    "while True:\n",
    "    print(count)\n",
    "    count += 1\n",
    "    if count >= 5:\n",
    "        break"
   ],
   "metadata": {
    "collapsed": false,
    "ExecuteTime": {
     "end_time": "2023-09-19T18:18:34.491371900Z",
     "start_time": "2023-09-19T18:18:34.463546700Z"
    }
   },
   "id": "7316221a06eb6e6e"
  },
  {
   "cell_type": "code",
   "execution_count": 19,
   "outputs": [
    {
     "name": "stdout",
     "output_type": "stream",
     "text": [
      "A\n",
      "failed\n",
      "failed\n",
      "A\n",
      "非法输入,程序即将终止\n"
     ]
    }
   ],
   "source": [
    "# 程序控制流之异常处理\n",
    "while True:\n",
    "    try:\n",
    "        score = int(input('请输入学生的分数...'))\n",
    "        score2grade(score)\n",
    "    except ValueError:\n",
    "        print('非法输入,程序即将终止')\n",
    "        break\n"
   ],
   "metadata": {
    "collapsed": false,
    "ExecuteTime": {
     "end_time": "2023-09-19T18:23:35.830618100Z",
     "start_time": "2023-09-19T18:23:26.014467300Z"
    }
   },
   "id": "c22ec9276282e847"
  },
  {
   "cell_type": "code",
   "execution_count": 17,
   "outputs": [
    {
     "ename": "ValueError",
     "evalue": "invalid literal for int() with base 10: '啊啥的'",
     "output_type": "error",
     "traceback": [
      "\u001B[1;31m---------------------------------------------------------------------------\u001B[0m",
      "\u001B[1;31mValueError\u001B[0m                                Traceback (most recent call last)",
      "Cell \u001B[1;32mIn[17], line 1\u001B[0m\n\u001B[1;32m----> 1\u001B[0m \u001B[38;5;28mprint\u001B[39m(\u001B[38;5;28;43mint\u001B[39;49m\u001B[43m(\u001B[49m\u001B[38;5;124;43m'\u001B[39;49m\u001B[38;5;124;43m啊啥的\u001B[39;49m\u001B[38;5;124;43m'\u001B[39;49m\u001B[43m)\u001B[49m)\n",
      "\u001B[1;31mValueError\u001B[0m: invalid literal for int() with base 10: '啊啥的'"
     ]
    }
   ],
   "source": [
    "print(int('啊啥的'))"
   ],
   "metadata": {
    "collapsed": false,
    "ExecuteTime": {
     "end_time": "2023-09-19T18:22:00.488934100Z",
     "start_time": "2023-09-19T18:22:00.463144200Z"
    }
   },
   "id": "763e6bda69b564a5"
  },
  {
   "cell_type": "markdown",
   "source": [],
   "metadata": {
    "collapsed": false
   },
   "id": "b38556dd626d58df"
  }
 ],
 "metadata": {
  "kernelspec": {
   "display_name": "Python 3",
   "language": "python",
   "name": "python3"
  },
  "language_info": {
   "codemirror_mode": {
    "name": "ipython",
    "version": 2
   },
   "file_extension": ".py",
   "mimetype": "text/x-python",
   "name": "python",
   "nbconvert_exporter": "python",
   "pygments_lexer": "ipython2",
   "version": "2.7.6"
  }
 },
 "nbformat": 4,
 "nbformat_minor": 5
}
